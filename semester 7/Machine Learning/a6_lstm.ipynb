{
 "cells": [
  {
   "cell_type": "code",
   "execution_count": 1,
   "metadata": {},
   "outputs": [
    {
     "name": "stderr",
     "output_type": "stream",
     "text": [
      "/home/sandipan/anaconda3/lib/python3.6/site-packages/h5py/__init__.py:36: FutureWarning: Conversion of the second argument of issubdtype from `float` to `np.floating` is deprecated. In future, it will be treated as `np.float64 == np.dtype(float).type`.\n",
      "  from ._conv import register_converters as _register_converters\n",
      "Using TensorFlow backend.\n"
     ]
    }
   ],
   "source": [
    "import keras\n",
    "import pandas as pd\n",
    "import numpy as np\n",
    "import matplotlib.pyplot as plt\n",
    "import bz2\n",
    "from nltk.tokenize import word_tokenize\n",
    "import string\n",
    "from sklearn.utils import shuffle\n",
    "import random"
   ]
  },
  {
   "cell_type": "code",
   "execution_count": 2,
   "metadata": {},
   "outputs": [],
   "source": [
    "#extracting data\n",
    "trainFile='test.ft.txt.bz2'\n",
    "file=bz2.BZ2File(trainFile,'r')\n",
    "lines=file.readlines()\n",
    "listOfsentiments = []"
   ]
  },
  {
   "cell_type": "code",
   "execution_count": 3,
   "metadata": {},
   "outputs": [],
   "source": [
    "def getallSentiments(docs,splitStr='__label__'):\n",
    "    for i in range(len(docs)):\n",
    "        #print('Processing line ',i+1,' of ',len(docs))\n",
    "        text=str(lines[i])\n",
    "        #print(text)\n",
    "        splitText=text.split(splitStr)\n",
    "        actual=splitText[1]\n",
    "        text=actual[2:len(actual)-3]\n",
    "        sentiment=actual[0]\n",
    "        # if i<5:\n",
    "            #print('First half:',actual[0],'\\nsecond half:',actual[2:len(actual)-3])\n",
    "        listOfsentiments.append([text,sentiment])\n",
    "    print('Done!!')\n",
    "    return listOfsentiments"
   ]
  },
  {
   "cell_type": "code",
   "execution_count": 4,
   "metadata": {},
   "outputs": [
    {
     "name": "stdout",
     "output_type": "stream",
     "text": [
      "Done!!\n"
     ]
    }
   ],
   "source": [
    "listOfsentiments=getallSentiments(lines[:1000000],splitStr='__label__')"
   ]
  },
  {
   "cell_type": "code",
   "execution_count": 5,
   "metadata": {},
   "outputs": [],
   "source": [
    "# tr = str.maketrans(\"\", \"\", string.punctuation)\n",
    "# for i in range(len(listOfsentiments)):\n",
    "#     s = listOfsentiments[i][0] # Sample string \n",
    "#     listOfsentiments[i][0] = s.translate(tr)\n",
    "#     if i<5:\n",
    "#         print(listOfsentiments[i][0])\n",
    "#     print(\"Completed line\"+str(i+1))\n",
    "import re\n",
    "for i in range(len(listOfsentiments)):\n",
    "\n",
    "    listOfsentiments[i][0] = re.sub(r'[^\\w\\s]','',listOfsentiments[i][0])\n",
    "    # if i<5:\n",
    "        #print(listOfsentiments[i][0])\n",
    "    ##print(\"Completed line\"+str(i+1))"
   ]
  },
  {
   "cell_type": "code",
   "execution_count": 6,
   "metadata": {},
   "outputs": [
    {
     "data": {
      "text/plain": [
       "(400000, 2)"
      ]
     },
     "execution_count": 6,
     "metadata": {},
     "output_type": "execute_result"
    }
   ],
   "source": [
    "df=pd.DataFrame(listOfsentiments,columns=['Review_Text','Sentiment_class_label']) #format: text <label>\n",
    "revcount = df.shape[0]\n",
    "rev = df[\"Review_Text\"]\n",
    "label = df[\"Sentiment_class_label\"]\n",
    "df.shape"
   ]
  },
  {
   "cell_type": "code",
   "execution_count": 7,
   "metadata": {},
   "outputs": [],
   "source": [
    "# sw = set(stopwords.words('english'))\n",
    "punc_removed = []\n",
    "dwords=[]\n",
    "wcount=[]\n",
    "for i in range(revcount):\n",
    "    word_tokens = word_tokenize(rev[i])\n",
    "    word_tokens = [word.lower() for word in word_tokens]\n",
    "    if len(word_tokens)<=25:\n",
    "        for neww in word_tokens:  \n",
    "            if neww not in dwords:\n",
    "                dwords.append(neww)\n",
    "                wcount.append(1)\n",
    "            else:\n",
    "                ind = dwords.index(neww)\n",
    "                wcount[ind] = wcount[ind]+1\n",
    "                \n",
    "        punc_removed.append((word_tokens,label[i],i, len(word_tokens)))\n",
    "    \n",
    "    \n",
    "    #print(\"Completed line\"+str(i+1))"
   ]
  },
  {
   "cell_type": "code",
   "execution_count": 8,
   "metadata": {},
   "outputs": [
    {
     "data": {
      "text/html": [
       "<div>\n",
       "<style scoped>\n",
       "    .dataframe tbody tr th:only-of-type {\n",
       "        vertical-align: middle;\n",
       "    }\n",
       "\n",
       "    .dataframe tbody tr th {\n",
       "        vertical-align: top;\n",
       "    }\n",
       "\n",
       "    .dataframe thead th {\n",
       "        text-align: right;\n",
       "    }\n",
       "</style>\n",
       "<table border=\"1\" class=\"dataframe\">\n",
       "  <thead>\n",
       "    <tr style=\"text-align: right;\">\n",
       "      <th></th>\n",
       "      <th>tokens</th>\n",
       "      <th>sentiments</th>\n",
       "      <th>ind</th>\n",
       "      <th>sen_length</th>\n",
       "    </tr>\n",
       "  </thead>\n",
       "  <tbody>\n",
       "    <tr>\n",
       "      <th>0</th>\n",
       "      <td>[long, and, boring, ive, read, this, book, wit...</td>\n",
       "      <td>1</td>\n",
       "      <td>20</td>\n",
       "      <td>19</td>\n",
       "    </tr>\n",
       "    <tr>\n",
       "      <th>1</th>\n",
       "      <td>[amazing, love, itvery, touchits, to, bad, tha...</td>\n",
       "      <td>2</td>\n",
       "      <td>44</td>\n",
       "      <td>15</td>\n",
       "    </tr>\n",
       "    <tr>\n",
       "      <th>2</th>\n",
       "      <td>[no, another, grill, like, this, this, grill, ...</td>\n",
       "      <td>2</td>\n",
       "      <td>55</td>\n",
       "      <td>24</td>\n",
       "    </tr>\n",
       "    <tr>\n",
       "      <th>3</th>\n",
       "      <td>[creepy, the, creepiest, book, ive, ever, read...</td>\n",
       "      <td>2</td>\n",
       "      <td>88</td>\n",
       "      <td>22</td>\n",
       "    </tr>\n",
       "    <tr>\n",
       "      <th>4</th>\n",
       "      <td>[possibly, the, funniest, movie, ever, made, i...</td>\n",
       "      <td>2</td>\n",
       "      <td>99</td>\n",
       "      <td>22</td>\n",
       "    </tr>\n",
       "  </tbody>\n",
       "</table>\n",
       "</div>"
      ],
      "text/plain": [
       "                                              tokens sentiments  ind  \\\n",
       "0  [long, and, boring, ive, read, this, book, wit...          1   20   \n",
       "1  [amazing, love, itvery, touchits, to, bad, tha...          2   44   \n",
       "2  [no, another, grill, like, this, this, grill, ...          2   55   \n",
       "3  [creepy, the, creepiest, book, ive, ever, read...          2   88   \n",
       "4  [possibly, the, funniest, movie, ever, made, i...          2   99   \n",
       "\n",
       "   sen_length  \n",
       "0          19  \n",
       "1          15  \n",
       "2          24  \n",
       "3          22  \n",
       "4          22  "
      ]
     },
     "execution_count": 8,
     "metadata": {},
     "output_type": "execute_result"
    }
   ],
   "source": [
    "# keep = []\n",
    "# for i in range(len(punc_removed)):\n",
    "#     keep.append(punc_removed[i][1])\n",
    "    \n",
    "\n",
    "# df2 = df[df.index.isin(keep)]\n",
    "\n",
    "df1 = pd.DataFrame(punc_removed,columns=['tokens','sentiments','ind', 'sen_length'])\n",
    "final_labels = df1['sentiments']\n",
    "v = pd.DataFrame({'dwords': dwords,'wcount': wcount})\n",
    "vocab = v[(v.wcount>5)]\n",
    "df1.head(5)\n",
    "\n"
   ]
  },
  {
   "cell_type": "code",
   "execution_count": 9,
   "metadata": {},
   "outputs": [],
   "source": [
    "#creating dictionary\n",
    "vocab2id = {\"<PAD>\":0, \"<_UNK>\":1}\n",
    "start_id = 2\n",
    "for i in range(vocab.shape[0]):\n",
    "    vocab2id[vocab.iloc[i][0]] = start_id\n",
    "    start_id = start_id+1\n",
    "    \n",
    "#inverted dictionary\n",
    "id2vocab = {value: key for key, value in vocab2id.items()}\n",
    "# for key, val in id2vocab.items():\n",
    "#     print(str(key)+\"==>\"+str(val))\n"
   ]
  },
  {
   "cell_type": "code",
   "execution_count": 22,
   "metadata": {},
   "outputs": [
    {
     "data": {
      "text/plain": [
       "5592"
      ]
     },
     "execution_count": 22,
     "metadata": {},
     "output_type": "execute_result"
    }
   ],
   "source": [
    "len(vocab2id)"
   ]
  },
  {
   "cell_type": "code",
   "execution_count": 11,
   "metadata": {},
   "outputs": [],
   "source": [
    "#get embeddings from glove\n",
    "embeddings_index = dict()\n",
    "f = open('glove.6B.100d.txt')\n",
    "for line in f:\n",
    "    values = line.split()\n",
    "    word = values[0]\n",
    "    coefs = np.asarray(values[1:], dtype='float32')\n",
    "    embeddings_index[word] = coefs\n",
    "f.close()\n",
    "\n",
    "# for key, val in embeddings_index.items():\n",
    "#     #print(str(key)+\"==>\"+str(val))"
   ]
  },
  {
   "cell_type": "code",
   "execution_count": 12,
   "metadata": {},
   "outputs": [],
   "source": [
    "embedding_list = np.zeros((len(vocab2id),100))\n",
    "for key, val in vocab2id.items():\n",
    "    if key in embeddings_index:\n",
    "        embedding_list[val] = embeddings_index[key]\n",
    "    else:\n",
    "        random_list = []\n",
    "        for _ in range(100):\n",
    "            value = random.uniform(-0.5,0.5)\n",
    "            random_list.append(value)\n",
    "        random_list = np.asarray(random_list, dtype='float32')\n",
    "        embedding_list[val] = random_list        \n"
   ]
  },
  {
   "cell_type": "code",
   "execution_count": 13,
   "metadata": {},
   "outputs": [],
   "source": [
    "processed_sentences = []\n",
    "for i in range(df1.shape[0]):\n",
    "    word2id_vector = np.zeros(25)\n",
    "    for j in range(df1['sen_length'][i]):\n",
    "        word = df1.iloc[i][0][j]\n",
    "        if word not in vocab2id:     \n",
    "            word2id_vector[j] = vocab2id['<_UNK>']     #only the words having word count >5 have been kept in vocab.\n",
    "        else:                                               #If it is not in vocab, give it id of 'unknown', i.e.<_UNK>\n",
    "            word2id_vector[j] = vocab2id[word]\n",
    "    processed_sentences.append(word2id_vector)\n",
    "        "
   ]
  },
  {
   "cell_type": "code",
   "execution_count": 15,
   "metadata": {},
   "outputs": [
    {
     "name": "stdout",
     "output_type": "stream",
     "text": [
      "[19. 20. 21.  1. 22. 23. 24. 25. 18. 26. 27. 28. 29. 30. 31.  0.  0.  0.\n",
      "  0.  0.  0.  0.  0.  0.  0.]\n"
     ]
    }
   ],
   "source": [
    "processed_sentences = np.asarray(processed_sentences)\n",
    "print(processed_sentences[1])\n",
    "final_labels=final_labels.astype('int32')\n",
    "\n",
    "labels = np.array(final_labels)\n",
    "for i in range(len(labels)):\n",
    "    if labels[i]==2:\n",
    "        labels[i]=0\n",
    "\n",
    "labels = labels[:,None] #from rank-1 array to 2d array"
   ]
  },
  {
   "cell_type": "code",
   "execution_count": 23,
   "metadata": {},
   "outputs": [
    {
     "data": {
      "text/plain": [
       "(26285, 25)"
      ]
     },
     "execution_count": 23,
     "metadata": {},
     "output_type": "execute_result"
    }
   ],
   "source": [
    "processed_sentences.shape"
   ]
  },
  {
   "cell_type": "code",
   "execution_count": 16,
   "metadata": {},
   "outputs": [],
   "source": [
    "from keras.models import Sequential\n",
    "from keras.layers import Dense, Flatten, LSTM, Activation\n",
    "from keras.layers.embeddings import Embedding"
   ]
  },
  {
   "cell_type": "code",
   "execution_count": 17,
   "metadata": {},
   "outputs": [],
   "source": [
    "def plotacc(histobj):\n",
    "    \n",
    "    # plot accuracy\n",
    "    plt.plot(histobj.history['acc'])\n",
    "    plt.plot(histobj.history['val_acc'])\n",
    "    plt.title('Model accuracy')\n",
    "    plt.ylabel('accuracy')\n",
    "    plt.xlabel('epoch')\n",
    "    plt.legend(['train', 'test'], loc='upper left')\n",
    "    plt.savefig('Accuracy of the model.png')\n",
    "    plt.show()\n",
    "    \n",
    "    # plot loss\n",
    "    plt.plot(histobj.history['loss'])\n",
    "    plt.plot(histobj.history['val_loss'])\n",
    "    plt.title('Model loss')\n",
    "    plt.ylabel('loss')\n",
    "    plt.xlabel('epoch')\n",
    "    plt.legend(['train', 'test'], loc='upper left')\n",
    "    plt.savefig('Model loss.png')\n",
    "    plt.show()"
   ]
  },
  {
   "cell_type": "code",
   "execution_count": 19,
   "metadata": {},
   "outputs": [
    {
     "name": "stdout",
     "output_type": "stream",
     "text": [
      "Train on 23656 samples, validate on 2629 samples\n",
      "Epoch 1/10\n",
      "23656/23656 [==============================] - 17s 725us/step - loss: 0.3959 - acc: 0.8161 - val_loss: 0.3343 - val_acc: 0.8650\n",
      "Epoch 2/10\n",
      "23656/23656 [==============================] - 14s 612us/step - loss: 0.2794 - acc: 0.8862 - val_loss: 0.2443 - val_acc: 0.9060\n",
      "Epoch 3/10\n",
      "23656/23656 [==============================] - 14s 611us/step - loss: 0.2453 - acc: 0.9014 - val_loss: 0.2485 - val_acc: 0.8977\n",
      "Epoch 4/10\n",
      "23656/23656 [==============================] - 15s 624us/step - loss: 0.2242 - acc: 0.9107 - val_loss: 0.2222 - val_acc: 0.9152\n",
      "Epoch 5/10\n",
      "23656/23656 [==============================] - 15s 617us/step - loss: 0.2033 - acc: 0.9210 - val_loss: 0.2086 - val_acc: 0.9254\n",
      "Epoch 6/10\n",
      "23656/23656 [==============================] - 16s 662us/step - loss: 0.1887 - acc: 0.9263 - val_loss: 0.2258 - val_acc: 0.9072\n",
      "Epoch 7/10\n",
      "23656/23656 [==============================] - 15s 636us/step - loss: 0.1748 - acc: 0.9324 - val_loss: 0.2045 - val_acc: 0.9182\n",
      "Epoch 8/10\n",
      "23656/23656 [==============================] - 15s 637us/step - loss: 0.1589 - acc: 0.9402 - val_loss: 0.1975 - val_acc: 0.9289\n",
      "Epoch 9/10\n",
      "23656/23656 [==============================] - 15s 635us/step - loss: 0.1470 - acc: 0.9449 - val_loss: 0.2083 - val_acc: 0.9232\n",
      "Epoch 10/10\n",
      "23656/23656 [==============================] - 15s 636us/step - loss: 0.1317 - acc: 0.9525 - val_loss: 0.2177 - val_acc: 0.9216\n"
     ]
    }
   ],
   "source": [
    "#LSTM model\n",
    "model1 = Sequential()\n",
    "model1.add(Embedding(len(vocab2id), 100, input_length=25, weights=[embedding_list],trainable = False))\n",
    "model1.add(LSTM(100))\n",
    "model1.add(Dense(1, activation='sigmoid'))\n",
    "model1.compile(loss='binary_crossentropy', optimizer='adam', metrics=['accuracy'])\n",
    "## Fit train data\n",
    "history1 = model1.fit(processed_sentences, np.array(labels), validation_split=0.1, epochs = 10, batch_size = 64)"
   ]
  },
  {
   "cell_type": "code",
   "execution_count": 20,
   "metadata": {},
   "outputs": [
    {
     "data": {
      "image/png": "[encoded data removed]",
      "text/plain": [
       "<Figure size 432x288 with 1 Axes>"
      ]
     },
     "metadata": {},
     "output_type": "display_data"
    },
    {
     "data": {
      "image/png": "[encoded data removed]",
      "text/plain": [
       "<Figure size 432x288 with 1 Axes>"
      ]
     },
     "metadata": {},
     "output_type": "display_data"
    }
   ],
   "source": [
    "plotacc(history1)"
   ]
  }
 ],
 "metadata": {
  "kernelspec": {
   "display_name": "Python 3",
   "language": "python",
   "name": "python3"
  },
  "language_info": {
   "codemirror_mode": {
    "name": "ipython",
    "version": 3
   },
   "file_extension": ".py",
   "mimetype": "text/x-python",
   "name": "python",
   "nbconvert_exporter": "python",
   "pygments_lexer": "ipython3",
   "version": "3.6.5"
  }
 },
 "nbformat": 4,
 "nbformat_minor": 2
}
